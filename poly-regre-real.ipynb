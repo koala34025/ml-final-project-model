{
 "cells": [
  {
   "cell_type": "code",
   "execution_count": 27,
   "metadata": {},
   "outputs": [],
   "source": [
    "import pandas as pd\n",
    "import yaml\n",
    "import os\n",
    "import numpy as np\n",
    "\n",
    "class DataFolder():\n",
    "    def __init__(self, \n",
    "                 folder_path, \n",
    "                 labels_path=\"./標籤集合.xlsx\", \n",
    "                 prices_path=\"./圖片的價格1121.xlsx\"):\n",
    "        '''\n",
    "        folder_path: yolov7pytorch folder\n",
    "        '''\n",
    "        self.labels = pd.DataFrame()\n",
    "        self.prices = pd.DataFrame()\n",
    "        self.side_dishes = []\n",
    "        self.rices = []\n",
    "        self.containers = []\n",
    "        self.main_dishes = []\n",
    "        self.class_id_to_name = {}\n",
    "        \n",
    "        self.train_data = pd.DataFrame()\n",
    "        self.valid_data = pd.DataFrame()\n",
    "        self.test_data = pd.DataFrame()\n",
    "\n",
    "        self.load_labels(labels_path)\n",
    "        self.load_prices(prices_path)\n",
    "        self.load_class_id_to_name(folder_path + \"/data.yaml\")\n",
    "        self.load_train(folder_path + \"/train\")\n",
    "        self.load_valid(folder_path + \"/valid\")\n",
    "        self.load_test(folder_path + \"/test\")\n",
    "\n",
    "    def load_labels(self, path):\n",
    "        if path.endswith('.xlsx'):\n",
    "            self.labels = pd.read_excel(path)\n",
    "        else:\n",
    "            print('File format not supported')\n",
    "            return\n",
    "        \n",
    "        # Get unique labels\n",
    "        self.side_dishes = self.labels[\"副菜\"].dropna().unique().tolist()\n",
    "        self.rices = self.labels[\"飯\"].dropna().unique().tolist()\n",
    "        self.containers = self.labels[\"容器\"].dropna().unique().tolist()\n",
    "        self.main_dishes = self.labels[\"主菜\"].dropna().unique().tolist()\n",
    "        self.main_dishes.append(\"sauteed pork\")\n",
    "        \n",
    "        # Leave english labels\n",
    "        self.side_dishes = [item.split('(')[0] for item in self.side_dishes]\n",
    "        self.rices = [item.split('(')[0] for item in self.rices]\n",
    "        self.containers = [item.split('(')[0] for item in self.containers]\n",
    "        self.main_dishes = [item.split('(')[0] for item in self.main_dishes]\n",
    "        \n",
    "    def load_prices(self, path):\n",
    "        if path.endswith('.xlsx'):\n",
    "            self.prices = pd.read_excel(path)\n",
    "        else:\n",
    "            print('File format not supported')\n",
    "\n",
    "    def load_class_id_to_name(self, path):\n",
    "        self._load_yaml(path)\n",
    "\n",
    "    def load_train(self, path):\n",
    "        self.train_data = self._load_data(path)\n",
    "\n",
    "    def load_valid(self, path):\n",
    "        self.valid_data = self._load_data(path)\n",
    "\n",
    "    def load_test(self, path):\n",
    "        self.test_data = self._load_data(path)\n",
    "\n",
    "    def _load_data(self, path):\n",
    "        '''\n",
    "        dataframe columns:\n",
    "            * side_dishes: sum of the area ratio of each side dish\n",
    "            * rices: one hot encoding 3 types of rice\n",
    "            * containers: one hot encoding 2 types of container\n",
    "            * main_dishes: one hot encoding >50 types of main dishes\n",
    "            * side_dishes_n: number of side dishes\n",
    "            * price: \n",
    "            * fair price: \n",
    "        '''\n",
    "        col = self.side_dishes + self.rices + self.containers + self.main_dishes\n",
    "        data = pd.DataFrame(columns=col)\n",
    "        containerless_n = 0\n",
    "        priceless_n = 0\n",
    "        \n",
    "        # For each image label file\n",
    "        for filename in os.listdir(path + \"/labels\"):\n",
    "            if not filename.endswith(\".txt\"):\n",
    "                print(f\"{filename} is not a label file.\")\n",
    "                continue\n",
    "\n",
    "            df = pd.read_csv(path + \"/labels/\" + filename, \n",
    "                             sep=\" \", \n",
    "                             header=None,\n",
    "                             names=[\"class_id\", \"x_center\", \"y_center\", \"width\", \"height\"])\n",
    "            df[\"class_name\"] = df[\"class_id\"].apply(lambda x: self.class_id_to_name[x])\n",
    "            df[\"area\"] = df.apply(lambda x: self._cal_area(x[\"width\"], x[\"height\"]), axis=1)\n",
    "            \n",
    "            # If has container, calculate the ratio\n",
    "            if df[df[\"class_name\"].isin(self.containers)][\"area\"].sum() != 0:\n",
    "                df[\"area_ratio\"] = df[\"area\"] / df[df[\"class_name\"].isin(self.containers)][\"area\"].sum()\n",
    "            # Else calculate the ratio of all\n",
    "            else: \n",
    "                df[\"area_ratio\"] = df[\"area\"] / df[\"area\"].sum()\n",
    "                containerless_n += 1\n",
    "            \n",
    "            # Get the price\n",
    "            price = self.prices[self.prices[\"filename\"] == filename.split(\"_jpg\")[0]][\"price\"].values[0]\n",
    "            # Get the fair price\n",
    "            fair_price = self.prices[self.prices[\"filename\"] == filename.split(\"_jpg\")[0]][\"fair price\"].values[0]\n",
    "            # If the price is not available, replace it with the fair price\n",
    "            if pd.isna(price):\n",
    "                price = fair_price\n",
    "                priceless_n += 1\n",
    "\n",
    "            # Make a new row\n",
    "            dic = {}\n",
    "            for index, row in df.iterrows():\n",
    "                # Sum of the area ratio of each class\n",
    "                dic[row[\"class_name\"]] = dic.get(row[\"class_name\"], 0) + row[\"area_ratio\"]\n",
    "            dic[\"side_dishes_n\"] = len(df[df[\"class_name\"].isin(self.side_dishes)])\n",
    "            dic[\"price\"] = price\n",
    "            dic[\"fair price\"] = fair_price\n",
    "\n",
    "            # Concat the new row to the data, index is the filename, fill na with 0\n",
    "            data = pd.concat([data, pd.DataFrame(dic, index=[filename.split(\"_jpg\")[0]])]).fillna(0)\n",
    "        \n",
    "        print(f\"There are {len(data)} image label files in the dataset {path}.\")\n",
    "        print(f\"There are {containerless_n} no container in the dataset.\")\n",
    "        print(f\"There are {priceless_n} no price in the dataset.\")\n",
    "\n",
    "        return data\n",
    "    \n",
    "    def _load_yaml(self, path):\n",
    "        with open(path, 'r') as f:\n",
    "            try:\n",
    "                data = yaml.safe_load(f)\n",
    "                print(f\"There are {data['nc']} classes in the dataset from yaml.\")\n",
    "                self.class_id_to_name = data[\"names\"]\n",
    "            except yaml.YAMLError as exc:\n",
    "                print(exc)\n",
    "\n",
    "    def _cal_area(self, width, height):\n",
    "        return width * height"
   ]
  },
  {
   "cell_type": "code",
   "execution_count": 28,
   "metadata": {},
   "outputs": [
    {
     "name": "stdout",
     "output_type": "stream",
     "text": [
      "There are 49 classes in the dataset from yaml.\n"
     ]
    },
    {
     "name": "stderr",
     "output_type": "stream",
     "text": [
      "C:\\Users\\koala\\AppData\\Local\\Temp\\ipykernel_18840\\3102972323.py:126: FutureWarning: The behavior of DataFrame concatenation with empty or all-NA entries is deprecated. In a future version, this will no longer exclude empty or all-NA columns when determining the result dtypes. To retain the old behavior, exclude the relevant entries before the concat operation.\n",
      "  data = pd.concat([data, pd.DataFrame(dic, index=[filename.split(\"_jpg\")[0]])]).fillna(0)\n"
     ]
    },
    {
     "name": "stdout",
     "output_type": "stream",
     "text": [
      "There are 747 image label files in the dataset final project.v9i.yolov7pytorch/train.\n",
      "There are 3 no container in the dataset.\n",
      "There are 66 no price in the dataset.\n"
     ]
    },
    {
     "name": "stderr",
     "output_type": "stream",
     "text": [
      "C:\\Users\\koala\\AppData\\Local\\Temp\\ipykernel_18840\\3102972323.py:126: FutureWarning: The behavior of DataFrame concatenation with empty or all-NA entries is deprecated. In a future version, this will no longer exclude empty or all-NA columns when determining the result dtypes. To retain the old behavior, exclude the relevant entries before the concat operation.\n",
      "  data = pd.concat([data, pd.DataFrame(dic, index=[filename.split(\"_jpg\")[0]])]).fillna(0)\n"
     ]
    },
    {
     "name": "stdout",
     "output_type": "stream",
     "text": [
      "There are 135 image label files in the dataset final project.v9i.yolov7pytorch/valid.\n",
      "There are 4 no container in the dataset.\n",
      "There are 11 no price in the dataset.\n"
     ]
    },
    {
     "name": "stderr",
     "output_type": "stream",
     "text": [
      "C:\\Users\\koala\\AppData\\Local\\Temp\\ipykernel_18840\\3102972323.py:126: FutureWarning: The behavior of DataFrame concatenation with empty or all-NA entries is deprecated. In a future version, this will no longer exclude empty or all-NA columns when determining the result dtypes. To retain the old behavior, exclude the relevant entries before the concat operation.\n",
      "  data = pd.concat([data, pd.DataFrame(dic, index=[filename.split(\"_jpg\")[0]])]).fillna(0)\n"
     ]
    },
    {
     "name": "stdout",
     "output_type": "stream",
     "text": [
      "There are 62 image label files in the dataset final project.v9i.yolov7pytorch/test.\n",
      "There are 0 no container in the dataset.\n",
      "There are 4 no price in the dataset.\n"
     ]
    }
   ],
   "source": [
    "datafolder = DataFolder(\"final project.v9i.yolov7pytorch\")"
   ]
  },
  {
   "cell_type": "code",
   "execution_count": 30,
   "metadata": {},
   "outputs": [
    {
     "data": {
      "text/plain": [
       "array([ 9.20155345e+00, -2.12590582e+01, -1.47868113e+01, -2.94990416e-01,\n",
       "        4.25757570e+01,  3.26299237e+01,  8.69814168e+01,  1.41809264e+02,\n",
       "        7.45315257e+01,  6.31020182e+01,  1.67688086e-12,  1.09466089e+02,\n",
       "        5.68543741e+01,  1.17942626e+02,  7.57796035e+01,  4.33471191e+01,\n",
       "       -5.32907052e-14,  8.64758589e+01,  7.84195168e+01,  7.13262074e+01,\n",
       "        1.43356245e+02,  7.88008443e+01,  7.86462986e+01,  1.11875828e+02,\n",
       "        9.43140301e+01,  1.02077896e+02, -2.27373675e-13,  9.86157105e+01,\n",
       "        7.65454728e+01,  9.10939942e+01,  7.47949025e+01,  7.63811230e+01,\n",
       "        1.01280594e+02,  1.76477588e+02,  6.81441701e+01,  6.42112726e+01,\n",
       "        1.42108547e-13,  1.70107544e+02,  1.25581601e+02, -4.26325641e-14,\n",
       "        1.41778174e+02,  5.16080609e+01,  6.39939536e+01,  8.19702104e+01,\n",
       "        3.48004122e+01,  5.30684332e+01,  1.83154136e+02,  7.44742879e+01,\n",
       "        6.56576231e+01,  1.09128738e+02,  1.19930681e+02,  0.00000000e+00,\n",
       "        9.31028868e+01,  5.83721087e+00])"
      ]
     },
     "execution_count": 30,
     "metadata": {},
     "output_type": "execute_result"
    }
   ],
   "source": [
    "# Apply linear regression\n",
    "from sklearn.linear_model import LinearRegression\n",
    "\n",
    "model = LinearRegression()\n",
    "model.fit(datafolder.train_data.drop([\"price\", \"fair price\"], axis=1), datafolder.train_data[\"price\"])\n",
    "model.coef_, model.intercept_"
   ]
  },
  {
   "cell_type": "code",
   "execution_count": 33,
   "metadata": {},
   "outputs": [
    {
     "data": {
      "text/plain": [
       "array([ 87.29534077,  76.35869216,  66.72275606,  72.34103337,\n",
       "        63.18348846,  80.62302788,  63.85895251,  61.58253962,\n",
       "        76.41387452,  72.21246582, 120.95758639,  70.65727688,\n",
       "        60.11412457,  79.26269607,  81.27220847,  66.1839342 ,\n",
       "        84.48370552,  85.67356901,  84.71321406,  71.37888581,\n",
       "       111.01090807,  72.1831646 ,  61.39412472,  25.40140086,\n",
       "        76.8589151 ,  77.16003255,  87.76928823,  72.01955644,\n",
       "        75.91080633,  74.05697115,  73.64947501,  81.84436073,\n",
       "        89.44192073,  72.29385162,  68.32675619,  92.24002744,\n",
       "        62.13356403,  68.0267879 ,  73.84292322,  87.69287199,\n",
       "        69.62307925,  49.69951666,  74.82012951,  96.83911368,\n",
       "        26.63504629,  52.35493311,  78.334893  ,  70.30637444,\n",
       "        75.37511742,  72.60275438,  74.79406584,  69.54396477,\n",
       "        73.32761893, 111.71478096,  51.55100644,  72.45870791,\n",
       "        71.31422291,  86.34907161,  69.40858928,  73.79588215,\n",
       "        62.37815337,  62.97141902,  72.2715513 ,  72.13922429,\n",
       "        57.67584801,  73.78173551,  75.58184302,  65.30798397,\n",
       "        62.57979654,  67.6178292 ,  81.68428983,  76.31618751,\n",
       "        64.42323108,  69.27343   ,  58.40443563,  75.17406991,\n",
       "        80.50883334,  77.29804315,  68.76142569, 108.85175125,\n",
       "        81.38149784,  79.21317945,  60.80201972,  66.50884851,\n",
       "        69.62943443,  69.09779588,  88.84300036,  86.45281423,\n",
       "        56.78461495,  57.20445519,  83.85681536,  70.90497142,\n",
       "        79.47043269,  71.94899368,  71.59561511,  77.12936339,\n",
       "        64.48920366,  90.00645119,  73.67005572,  98.54624939,\n",
       "        75.93377139,  65.03561755,  71.84957175,  43.01036482,\n",
       "        73.84197096,  70.20335955,  77.64052616,  73.87922814,\n",
       "        61.79272738,  91.57627313,  95.79049431,  25.51312   ,\n",
       "        69.78835876,  74.57519779,  73.80709115,  76.0415093 ,\n",
       "        59.34369336,  52.17308058,  75.04595859,  68.68249641,\n",
       "        80.68797673,  86.36206762,  85.50471089,  72.65876244,\n",
       "        74.98011407,  62.38032919,  63.6271471 ,  72.25420484,\n",
       "        72.71254059,  86.03297092,  73.85105975,  70.26315863,\n",
       "        60.83996971,  78.93858772,  88.09147539])"
      ]
     },
     "execution_count": 33,
     "metadata": {},
     "output_type": "execute_result"
    }
   ],
   "source": [
    "y_hat = model.predict(datafolder.valid_data.drop([\"price\", \"fair price\"], axis=1))\n",
    "y_hat"
   ]
  },
  {
   "cell_type": "code",
   "execution_count": null,
   "metadata": {},
   "outputs": [],
   "source": [
    "def MAPE(y_true, y_pred):\n",
    "    return np.mean(np.abs((y_true - y_pred) / y_true)) * 100"
   ]
  }
 ],
 "metadata": {
  "kernelspec": {
   "display_name": "Python 3",
   "language": "python",
   "name": "python3"
  },
  "language_info": {
   "codemirror_mode": {
    "name": "ipython",
    "version": 3
   },
   "file_extension": ".py",
   "mimetype": "text/x-python",
   "name": "python",
   "nbconvert_exporter": "python",
   "pygments_lexer": "ipython3",
   "version": "3.11.6"
  }
 },
 "nbformat": 4,
 "nbformat_minor": 2
}
